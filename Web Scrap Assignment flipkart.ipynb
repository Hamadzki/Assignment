{
 "cells": [
  {
   "cell_type": "code",
   "execution_count": 1,
   "metadata": {},
   "outputs": [],
   "source": [
    "import html5lib\n",
    "from bs4 import BeautifulSoup\n",
    "import requests\n",
    "import pandas as pd\n",
    "import numpy as np"
   ]
  },
  {
   "cell_type": "code",
   "execution_count": 2,
   "metadata": {},
   "outputs": [],
   "source": [
    "url = \"https://www.flipkart.com/search?q=iphone&otracker=search&otracker1=search&marketplace=FLIPKART&as-show=on&as=off&page=1\""
   ]
  },
  {
   "cell_type": "markdown",
   "metadata": {},
   "source": [
    "total pages = 16"
   ]
  },
  {
   "cell_type": "code",
   "execution_count": 3,
   "metadata": {},
   "outputs": [],
   "source": [
    "data = requests.get(url).text"
   ]
  },
  {
   "cell_type": "code",
   "execution_count": 4,
   "metadata": {},
   "outputs": [],
   "source": [
    "soup = BeautifulSoup(data,'html.parser')"
   ]
  },
  {
   "cell_type": "code",
   "execution_count": 5,
   "metadata": {},
   "outputs": [
    {
     "data": {
      "text/plain": [
       "'Iphone- Buy Products Online at Best Price in India - All Categories | Flipkart.com'"
      ]
     },
     "execution_count": 5,
     "metadata": {},
     "output_type": "execute_result"
    }
   ],
   "source": [
    "soup.title.text"
   ]
  },
  {
   "cell_type": "markdown",
   "metadata": {},
   "source": [
    "**I am creating an dataframe which will contain the columns: Name, Rating, Rom, Display, camera, Processor, price**"
   ]
  },
  {
   "cell_type": "markdown",
   "metadata": {},
   "source": [
    "Names are in the class '_4rR01T'"
   ]
  },
  {
   "cell_type": "markdown",
   "metadata": {},
   "source": [
    "ratings is in the class = \"_3LWZlK\""
   ]
  },
  {
   "cell_type": "markdown",
   "metadata": {},
   "source": [
    "Price is in the class \"_30jeq3 _1_WHN1\""
   ]
  },
  {
   "cell_type": "markdown",
   "metadata": {},
   "source": [
    "Rom, Dispplay, Camera, Processor all are in the same class \"_2kHMtA\" "
   ]
  },
  {
   "cell_type": "code",
   "execution_count": 6,
   "metadata": {},
   "outputs": [],
   "source": [
    "iphone = soup.find_all('div',class_ = \"_2kHMtA\")"
   ]
  },
  {
   "cell_type": "code",
   "execution_count": 7,
   "metadata": {},
   "outputs": [],
   "source": [
    "Name = []\n",
    "Rating = []\n",
    "Price = []\n",
    "Rom = [] \n",
    "Display = []\n",
    "Camera = []\n",
    "Processor = []"
   ]
  },
  {
   "cell_type": "code",
   "execution_count": 8,
   "metadata": {},
   "outputs": [],
   "source": [
    "\n",
    "for i in iphone:\n",
    "    Name.append(i.find(class_ = '_4rR01T').text)\n",
    "    Rating.append(i.find(class_ = \"_3LWZlK\").text)\n",
    "    Price.append(i.find(class_ =  \"_30jeq3 _1_WHN1\").text)\n",
    "    Rom.append(i.find_all(class_ = \"rgWa7D\")[0].text)\n",
    "    Display.append(i.find_all(class_ = \"rgWa7D\")[1].text)\n",
    "    Camera.append(i.find_all(class_ = \"rgWa7D\")[2].text)\n",
    "    Processor.append(i.find_all(class_ = \"rgWa7D\")[3].text)\n",
    "    \n",
    "    "
   ]
  },
  {
   "cell_type": "code",
   "execution_count": 9,
   "metadata": {},
   "outputs": [],
   "source": [
    "import pandas as pd"
   ]
  },
  {
   "cell_type": "code",
   "execution_count": 10,
   "metadata": {},
   "outputs": [],
   "source": [
    "Dataframe = pd.DataFrame({\"Name\":Name ,\"Rating\":Rating, \"Rom\":Rom , \"Display\":Display , \n",
    "                          \"Camera\":Camera,\"Processor\":Processor,\"Price\":Price})"
   ]
  },
  {
   "cell_type": "code",
   "execution_count": 11,
   "metadata": {},
   "outputs": [
    {
     "data": {
      "text/html": [
       "<div>\n",
       "<style scoped>\n",
       "    .dataframe tbody tr th:only-of-type {\n",
       "        vertical-align: middle;\n",
       "    }\n",
       "\n",
       "    .dataframe tbody tr th {\n",
       "        vertical-align: top;\n",
       "    }\n",
       "\n",
       "    .dataframe thead th {\n",
       "        text-align: right;\n",
       "    }\n",
       "</style>\n",
       "<table border=\"1\" class=\"dataframe\">\n",
       "  <thead>\n",
       "    <tr style=\"text-align: right;\">\n",
       "      <th></th>\n",
       "      <th>Name</th>\n",
       "      <th>Rating</th>\n",
       "      <th>Rom</th>\n",
       "      <th>Display</th>\n",
       "      <th>Camera</th>\n",
       "      <th>Processor</th>\n",
       "      <th>Price</th>\n",
       "    </tr>\n",
       "  </thead>\n",
       "  <tbody>\n",
       "    <tr>\n",
       "      <th>0</th>\n",
       "      <td>APPLE iPhone 11 (White, 64 GB)</td>\n",
       "      <td>4.6</td>\n",
       "      <td>64 GB ROM</td>\n",
       "      <td>15.49 cm (6.1 inch) Liquid Retina HD Display</td>\n",
       "      <td>12MP + 12MP | 12MP Front Camera</td>\n",
       "      <td>A13 Bionic Chip Processor</td>\n",
       "      <td>₹46,999</td>\n",
       "    </tr>\n",
       "    <tr>\n",
       "      <th>1</th>\n",
       "      <td>APPLE iPhone 13 (Midnight, 128 GB)</td>\n",
       "      <td>4.6</td>\n",
       "      <td>128 GB ROM</td>\n",
       "      <td>15.49 cm (6.1 inch) Super Retina XDR Display</td>\n",
       "      <td>12MP + 12MP | 12MP Front Camera</td>\n",
       "      <td>A15 Bionic Chip Processor</td>\n",
       "      <td>₹73,999</td>\n",
       "    </tr>\n",
       "    <tr>\n",
       "      <th>2</th>\n",
       "      <td>APPLE iPhone 13 (Pink, 128 GB)</td>\n",
       "      <td>4.6</td>\n",
       "      <td>128 GB ROM</td>\n",
       "      <td>15.49 cm (6.1 inch) Super Retina XDR Display</td>\n",
       "      <td>12MP + 12MP | 12MP Front Camera</td>\n",
       "      <td>A15 Bionic Chip Processor</td>\n",
       "      <td>₹73,999</td>\n",
       "    </tr>\n",
       "    <tr>\n",
       "      <th>3</th>\n",
       "      <td>APPLE iPhone 11 (Black, 64 GB)</td>\n",
       "      <td>4.6</td>\n",
       "      <td>64 GB ROM</td>\n",
       "      <td>15.49 cm (6.1 inch) Liquid Retina HD Display</td>\n",
       "      <td>12MP + 12MP | 12MP Front Camera</td>\n",
       "      <td>A13 Bionic Chip Processor</td>\n",
       "      <td>₹46,999</td>\n",
       "    </tr>\n",
       "    <tr>\n",
       "      <th>4</th>\n",
       "      <td>APPLE iPhone 11 (Purple, 64 GB)</td>\n",
       "      <td>4.6</td>\n",
       "      <td>64 GB ROM</td>\n",
       "      <td>15.49 cm (6.1 inch) Liquid Retina HD Display</td>\n",
       "      <td>12MP + 12MP | 12MP Front Camera</td>\n",
       "      <td>A13 Bionic Chip Processor</td>\n",
       "      <td>₹46,999</td>\n",
       "    </tr>\n",
       "  </tbody>\n",
       "</table>\n",
       "</div>"
      ],
      "text/plain": [
       "                                 Name Rating         Rom  \\\n",
       "0      APPLE iPhone 11 (White, 64 GB)    4.6   64 GB ROM   \n",
       "1  APPLE iPhone 13 (Midnight, 128 GB)    4.6  128 GB ROM   \n",
       "2      APPLE iPhone 13 (Pink, 128 GB)    4.6  128 GB ROM   \n",
       "3      APPLE iPhone 11 (Black, 64 GB)    4.6   64 GB ROM   \n",
       "4     APPLE iPhone 11 (Purple, 64 GB)    4.6   64 GB ROM   \n",
       "\n",
       "                                        Display  \\\n",
       "0  15.49 cm (6.1 inch) Liquid Retina HD Display   \n",
       "1  15.49 cm (6.1 inch) Super Retina XDR Display   \n",
       "2  15.49 cm (6.1 inch) Super Retina XDR Display   \n",
       "3  15.49 cm (6.1 inch) Liquid Retina HD Display   \n",
       "4  15.49 cm (6.1 inch) Liquid Retina HD Display   \n",
       "\n",
       "                            Camera                  Processor    Price  \n",
       "0  12MP + 12MP | 12MP Front Camera  A13 Bionic Chip Processor  ₹46,999  \n",
       "1  12MP + 12MP | 12MP Front Camera  A15 Bionic Chip Processor  ₹73,999  \n",
       "2  12MP + 12MP | 12MP Front Camera  A15 Bionic Chip Processor  ₹73,999  \n",
       "3  12MP + 12MP | 12MP Front Camera  A13 Bionic Chip Processor  ₹46,999  \n",
       "4  12MP + 12MP | 12MP Front Camera  A13 Bionic Chip Processor  ₹46,999  "
      ]
     },
     "execution_count": 11,
     "metadata": {},
     "output_type": "execute_result"
    }
   ],
   "source": [
    "Dataframe.head()"
   ]
  },
  {
   "cell_type": "code",
   "execution_count": 12,
   "metadata": {},
   "outputs": [],
   "source": [
    "Dataframe.to_csv('Iphone_data_sample.csv')"
   ]
  },
  {
   "cell_type": "markdown",
   "metadata": {},
   "source": [
    "I scrapped only 1 page and there are 16 pages.\n",
    "so i am going tp scrap all in one code"
   ]
  },
  {
   "cell_type": "code",
   "execution_count": 13,
   "metadata": {},
   "outputs": [],
   "source": [
    "name = []\n",
    "rating = []\n",
    "price = []\n",
    "rom = [] \n",
    "display = []\n",
    "camera = []\n",
    "processor = []\n",
    "\n",
    "final = pd.DataFrame()"
   ]
  },
  {
   "cell_type": "code",
   "execution_count": 14,
   "metadata": {},
   "outputs": [],
   "source": [
    "for i in range(0,16):\n",
    "    webpage = requests.get(f\"https://www.flipkart.com/search?q=iphone&otracker=search&otracker1=search&marketplace=FLIPKART&as-show=on&as=off&page={i}\").text\n",
    "    soup = BeautifulSoup(webpage,'html.parser')\n",
    "    iphone = soup.find_all('div',class_ = \"_2kHMtA\")\n",
    "    for i in iphone:\n",
    "        try:\n",
    "            name.append(i.find(class_ = '_4rR01T').text)\n",
    "        except:\n",
    "            name.append(np.nan)\n",
    "            \n",
    "        try:    \n",
    "            rating.append(i.find(class_ = \"_3LWZlK\").text)\n",
    "        except:\n",
    "            rating.append(np.nan)\n",
    "            \n",
    "        try: \n",
    "            price.append(i.find(class_ =  \"_30jeq3 _1_WHN1\").text)\n",
    "        except:    \n",
    "            price.append(np.nan)\n",
    "            \n",
    "        try: \n",
    "            rom.append(i.find_all(class_ = \"rgWa7D\")[0].text)\n",
    "        except:\n",
    "            rom.append(np.nan)\n",
    "            \n",
    "        try: \n",
    "            display.append(i.find_all(class_ = \"rgWa7D\")[1].text)\n",
    "        except:\n",
    "            display.append(np.nan)\n",
    "            \n",
    "        try: \n",
    "            camera.append(i.find_all(class_ = \"rgWa7D\")[2].text)\n",
    "        except:\n",
    "            camera.append(np.nan)\n",
    "            \n",
    "        try: \n",
    "            processor.append(i.find_all(class_ = \"rgWa7D\")[3].text)\n",
    "        except:\n",
    "            processor.append(np.nan)\n",
    "    \n",
    "    df = pd.DataFrame({\"name\":name ,\"rating\":rating, \"rom\":rom , \"display\":display , \n",
    "                          \"camera\":camera,\"processor\":processor,\"price\":price})\n",
    "    \n",
    "    final=final.append(df,ignore_index=True)"
   ]
  },
  {
   "cell_type": "code",
   "execution_count": 15,
   "metadata": {},
   "outputs": [],
   "source": [
    "final.to_csv(\"iphone_final.csv\")"
   ]
  },
  {
   "cell_type": "code",
   "execution_count": null,
   "metadata": {},
   "outputs": [],
   "source": []
  },
  {
   "cell_type": "code",
   "execution_count": null,
   "metadata": {},
   "outputs": [],
   "source": []
  },
  {
   "cell_type": "code",
   "execution_count": null,
   "metadata": {},
   "outputs": [],
   "source": []
  },
  {
   "cell_type": "code",
   "execution_count": null,
   "metadata": {},
   "outputs": [],
   "source": []
  },
  {
   "cell_type": "code",
   "execution_count": null,
   "metadata": {},
   "outputs": [],
   "source": []
  },
  {
   "cell_type": "code",
   "execution_count": null,
   "metadata": {},
   "outputs": [],
   "source": []
  },
  {
   "cell_type": "code",
   "execution_count": null,
   "metadata": {},
   "outputs": [],
   "source": []
  },
  {
   "cell_type": "code",
   "execution_count": null,
   "metadata": {},
   "outputs": [],
   "source": []
  },
  {
   "cell_type": "code",
   "execution_count": null,
   "metadata": {},
   "outputs": [],
   "source": []
  },
  {
   "cell_type": "code",
   "execution_count": null,
   "metadata": {},
   "outputs": [],
   "source": []
  },
  {
   "cell_type": "code",
   "execution_count": null,
   "metadata": {},
   "outputs": [],
   "source": []
  },
  {
   "cell_type": "code",
   "execution_count": null,
   "metadata": {},
   "outputs": [],
   "source": []
  },
  {
   "cell_type": "code",
   "execution_count": null,
   "metadata": {},
   "outputs": [],
   "source": []
  },
  {
   "cell_type": "code",
   "execution_count": null,
   "metadata": {},
   "outputs": [],
   "source": []
  },
  {
   "cell_type": "code",
   "execution_count": null,
   "metadata": {},
   "outputs": [],
   "source": [
    "\n",
    "    "
   ]
  },
  {
   "cell_type": "code",
   "execution_count": null,
   "metadata": {},
   "outputs": [],
   "source": []
  },
  {
   "cell_type": "code",
   "execution_count": null,
   "metadata": {},
   "outputs": [],
   "source": []
  },
  {
   "cell_type": "code",
   "execution_count": null,
   "metadata": {},
   "outputs": [],
   "source": []
  },
  {
   "cell_type": "code",
   "execution_count": null,
   "metadata": {},
   "outputs": [],
   "source": []
  }
 ],
 "metadata": {
  "kernelspec": {
   "display_name": "Python 3",
   "language": "python",
   "name": "python3"
  },
  "language_info": {
   "codemirror_mode": {
    "name": "ipython",
    "version": 3
   },
   "file_extension": ".py",
   "mimetype": "text/x-python",
   "name": "python",
   "nbconvert_exporter": "python",
   "pygments_lexer": "ipython3",
   "version": "3.8.5"
  }
 },
 "nbformat": 4,
 "nbformat_minor": 4
}
